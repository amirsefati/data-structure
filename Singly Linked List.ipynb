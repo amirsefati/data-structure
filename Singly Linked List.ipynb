{
 "cells": [
  {
   "cell_type": "markdown",
   "metadata": {},
   "source": [
    "Insertion in Linked List\n",
    " - At the front of the linked list  \n",
    " - Before a given node.\n",
    " - After a given node.\n",
    " - At a specific position.\n",
    " - At the end of the linked list."
   ]
  },
  {
   "cell_type": "code",
   "execution_count": 2,
   "metadata": {},
   "outputs": [
    {
     "name": "stdout",
     "output_type": "stream",
     "text": [
      " 1 2 3 4 5\n"
     ]
    }
   ],
   "source": [
    "# - At the front of the linked list  \n",
    "\n",
    "class Node:\n",
    "    def __init__(self, newData):\n",
    "        self.data = newData\n",
    "        self.next = None\n",
    "        \n",
    "def insert_at_front(head, newData):\n",
    "    \n",
    "    newNode = Node(newData)\n",
    "    newNode.next = head\n",
    "    \n",
    "    return newNode\n",
    "\n",
    "def print_list(head):\n",
    "    curr = head\n",
    "    while curr is not None:\n",
    "        print(f\" {curr.data}\", end=\"\")\n",
    "        curr = curr.next\n",
    "    print()\n",
    "    \n",
    "if __name__ == \"__main__\":\n",
    "  \n",
    "    # Create the linked list\n",
    "    head = Node(2)\n",
    "    head.next = Node(3)\n",
    "    head.next.next = Node(4)\n",
    "    head.next.next.next = Node(5)\n",
    "\n",
    "    data = 1\n",
    "    head = insert_at_front(head, data)\n",
    "\n",
    "    print_list(head)"
   ]
  }
 ],
 "metadata": {
  "kernelspec": {
   "display_name": "Python 3",
   "language": "python",
   "name": "python3"
  },
  "language_info": {
   "codemirror_mode": {
    "name": "ipython",
    "version": 3
   },
   "file_extension": ".py",
   "mimetype": "text/x-python",
   "name": "python",
   "nbconvert_exporter": "python",
   "pygments_lexer": "ipython3",
   "version": "3.11.2"
  }
 },
 "nbformat": 4,
 "nbformat_minor": 2
}
