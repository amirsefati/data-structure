{
 "cells": [
  {
   "cell_type": "markdown",
   "metadata": {},
   "source": [
    "Insertion in Linked List\n",
    " - At the front of the linked list  \n",
    " - Before a given node.\n",
    " - After a given node.\n",
    " - At a specific position.\n",
    " - At the end of the linked list."
   ]
  },
  {
   "cell_type": "code",
   "execution_count": 3,
   "metadata": {},
   "outputs": [
    {
     "name": "stdout",
     "output_type": "stream",
     "text": [
      " 1 2 3 4 5\n"
     ]
    }
   ],
   "source": [
    "# - At the front of the linked list  \n",
    "\n",
    "class Node:\n",
    "    def __init__(self, newData):\n",
    "        self.data = newData\n",
    "        self.next = None\n",
    "        \n",
    "def insert_at_front(head, newData):\n",
    "    \n",
    "    newNode = Node(newData)\n",
    "    newNode.next = head\n",
    "    \n",
    "    return newNode\n",
    "\n",
    "def print_list(head):\n",
    "    curr = head\n",
    "    while curr is not None:\n",
    "        print(f\" {curr.data}\", end=\"\")\n",
    "        curr = curr.next\n",
    "    print()\n",
    "    \n",
    "if __name__ == \"__main__\":\n",
    "  \n",
    "    # Create the linked list\n",
    "    head = Node(2)\n",
    "    head.next = Node(3)\n",
    "    head.next.next = Node(4)\n",
    "    head.next.next.next = Node(5)\n",
    "\n",
    "    data = 1\n",
    "    head = insert_at_front(head, data)\n",
    "\n",
    "    print_list(head)"
   ]
  },
  {
   "cell_type": "code",
   "execution_count": 4,
   "metadata": {},
   "outputs": [
    {
     "name": "stdout",
     "output_type": "stream",
     "text": [
      "2 3 4 5 6 \n"
     ]
    }
   ],
   "source": [
    "# - After a given node.\n",
    "\n",
    "class Node:\n",
    "    def __init__(self, data):\n",
    "        self.data = data\n",
    "        self.next = None\n",
    "        \n",
    "def insertAfter(head, key, newData):\n",
    "    curr = head\n",
    "    \n",
    "    while curr is not None:\n",
    "        if curr.data == key:\n",
    "            break\n",
    "        curr = curr.next\n",
    "        \n",
    "    #if not found\n",
    "    if curr is None:\n",
    "        return head\n",
    "    \n",
    "    newNode = Node(newData)\n",
    "    newNode.next = curr.next\n",
    "    curr.next = newNode\n",
    "    return head\n",
    "\n",
    "def printList(node):\n",
    "    while node is not None:\n",
    "        print(node.data, end=\" \")\n",
    "        node = node.next\n",
    "    print()\n",
    "\n",
    "\n",
    "if __name__ == \"__main__\":\n",
    "  \n",
    "    head = Node(2)\n",
    "    head.next = Node(3)\n",
    "    head.next.next = Node(5)\n",
    "    head.next.next.next = Node(6)\n",
    "\n",
    "    key = 3\n",
    "    newData = 4\n",
    "    head = insertAfter(head, key, newData)\n",
    "\n",
    "    printList(head)"
   ]
  },
  {
   "cell_type": "code",
   "execution_count": 5,
   "metadata": {},
   "outputs": [
    {
     "name": "stdout",
     "output_type": "stream",
     "text": [
      "1 6 2 3 4 5 \n"
     ]
    }
   ],
   "source": [
    "#  - Before a given node.\n",
    "class Node:\n",
    "    def __init__(self, x):\n",
    "        self.data = x\n",
    "        self.next = None\n",
    "\n",
    "def insert_before_key(head, key, newData):\n",
    "\n",
    "    # Special case: if the key is at the head\n",
    "    if head is None:\n",
    "        return None\n",
    "\n",
    "    # If the head's data matches the key, create \n",
    "    # and insert new node as the new head\n",
    "    if head.data == key:\n",
    "        new_node = Node(newData)\n",
    "        new_node.next = head\n",
    "        return new_node\n",
    "\n",
    "    # Initialize pointers\n",
    "    prev = None\n",
    "    curr = head\n",
    "\n",
    "    # Traverse the list to find the key\n",
    "    while curr is not None and curr.data != key:\n",
    "        prev = curr\n",
    "        curr = curr.next\n",
    "\n",
    "    # If the key was found\n",
    "    if curr is not None:\n",
    "        new_node = Node(newData)\n",
    "        prev.next = new_node\n",
    "        new_node.next = curr\n",
    "\n",
    "    return head\n",
    "\n",
    "def print_list(node):\n",
    "    curr = node\n",
    "    while curr is not None:\n",
    "        print(curr.data, end=\" \")\n",
    "        curr = curr.next\n",
    "    print()\n",
    "\n",
    "if __name__ == \"__main__\":\n",
    "\n",
    "    head = Node(1)\n",
    "    head.next = Node(2)\n",
    "    head.next.next = Node(3)\n",
    "    head.next.next.next = Node(4)\n",
    "    head.next.next.next.next = Node(5)\n",
    "\n",
    "    newData = 6\n",
    "    key = 2\n",
    "\n",
    "    head = insert_before_key(head, key, newData)\n",
    "\n",
    "    print_list(head)"
   ]
  }
 ],
 "metadata": {
  "kernelspec": {
   "display_name": "Python 3",
   "language": "python",
   "name": "python3"
  },
  "language_info": {
   "codemirror_mode": {
    "name": "ipython",
    "version": 3
   },
   "file_extension": ".py",
   "mimetype": "text/x-python",
   "name": "python",
   "nbconvert_exporter": "python",
   "pygments_lexer": "ipython3",
   "version": "3.11.2"
  }
 },
 "nbformat": 4,
 "nbformat_minor": 2
}
